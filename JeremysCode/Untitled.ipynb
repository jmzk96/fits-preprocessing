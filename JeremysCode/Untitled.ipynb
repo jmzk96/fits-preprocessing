{
 "cells": [
  {
   "cell_type": "code",
   "execution_count": 2,
   "metadata": {},
   "outputs": [],
   "source": [
    "import hda_fits\n",
    "from typing import Union\n",
    "import paramiko\n",
    "import fnmatch\n"
   ]
  },
  {
   "cell_type": "code",
   "execution_count": 20,
   "metadata": {},
   "outputs": [
    {
     "data": {
      "text/plain": [
       "hda_fits.fits.RectangleSize"
      ]
     },
     "execution_count": 20,
     "metadata": {},
     "output_type": "execute_result"
    }
   ],
   "source": [
    "hda_fits.RectangleSize"
   ]
  },
  {
   "cell_type": "code",
   "execution_count": null,
   "metadata": {},
   "outputs": [],
   "source": [
    "# def write_pink_file_v2(\n",
    "#     filepath: str,\n",
    "#     mosaic_path: str,\n",
    "#     coordinate_df: pd.DataFrame, # DataFrame mit (RA, DEC) sowie Mosaic_ID\n",
    "#     download: bool = False,\n",
    "#     image_size: Union[int, RectangleSize],\n",
    "#     min_max_scale: bool = True\n",
    "# ):\n",
    "# \"\"\"\n",
    "# 1. Unique-Mosaic_IDs aus DataFrame extrahieren\n",
    "# 2. Durch Mosaic_IDs iterieren\n",
    "# 2.1. Mosaic laden\n",
    "# 2.2. Koordinaten dieses Mosaics verwenden und Image-Arrays an PINK-File appenden\n",
    "# 2.3. Header des PINK-Files mit aktueller Bilderanzahl aktualisieren\n",
    "# \"\"\"\n"
   ]
  },
  {
   "cell_type": "code",
   "execution_count": 5,
   "metadata": {},
   "outputs": [],
   "source": [
    "catalog = hda_fits.read_shimwell_catalog(\"path_to_catalog\",reduced=True)\n",
    "list_of_mosaics=catalog.Mosaic_ID.unique().tolist()\n",
    "for i in list_of_mosaics:\n",
    "    mosaic = hda_fits.load_mosaic(i, \"input_folder_to_load_mosaic\", download = True)\n",
    "    hdu = mosaic[0]\n",
    "    table_with_unique_mosaic = catalog[catalog.Mosaic_ID == i]\n",
    "    coord = table_with_unique_mosaic.loc[:,[\"RA\",\"DEC\"]].values.tolist()\n",
    "    pink_bin_file = hda_fits.write_mosaic_objects_to_pink_file_v2(filepath=\"some_file_path\",coordinates=coord,hdu=hdu,image_size=20)"
   ]
  },
  {
   "cell_type": "code",
   "execution_count": 3,
   "metadata": {},
   "outputs": [],
   "source": [
    "def write_pink_file_v2(\n",
    "    catalog_path: str,\n",
    "    filepath: str,\n",
    "    output_mosaic_path: str,\n",
    "    image_size: Union[int, hda_fits.RectangleSize],\n",
    "    min_max_scale: bool = True,\n",
    "    save_in_different_files : bool = True,\n",
    "    download: bool = False\n",
    "):\n",
    "    catalog = hda_fits.read_shimwell_catalog(catalog_path,reduced=True)\n",
    "    list_of_mosaics=catalog.Mosaic_ID.unique().tolist()\n",
    "    for i in list_of_mosaics:\n",
    "        mosaic = hda_fits.load_mosaic(i, output_mosaic_path, download = download)\n",
    "        hdu = mosaic[0]\n",
    "        table_with_unique_mosaic = catalog[catalog.Mosaic_ID == i]\n",
    "        coord = table_with_unique_mosaic.loc[:,[\"RA\",\"DEC\"]].values.tolist()\n",
    "        if save_in_different_files:\n",
    "            pink_bin_file = hda_fits.write_mosaic_objects_to_pink_file_v2(filepath=filepath + f\"{i}.bin\",\n",
    "                                                                          coordinates=coord,hdu=hdu,\n",
    "                                                                          image_size=image_size, \n",
    "                                                                          min_max_scale=min_max_scale)\n",
    "        else:\n",
    "            pink_bin_file = hda_fits.write_mosaic_objects_to_pink_file_v2(filepath=filepath + f\"all_objects_pink.bin\",\n",
    "                                                                          coordinates=coord,hdu=hdu,\n",
    "                                                                          image_size=image_size, \n",
    "                                                                          min_max_scale=min_max_scale)\n",
    "            \n"
   ]
  },
  {
   "cell_type": "code",
   "execution_count": 7,
   "metadata": {},
   "outputs": [
    {
     "name": "stderr",
     "output_type": "stream",
     "text": [
      "2021-11-04 22:48:22,530 fits.py: Loading C:/Users/X230/Downloads/P22Hetdex04-mosaic.fits\n"
     ]
    },
    {
     "ename": "TypeError",
     "evalue": "buffer is too small for requested array",
     "output_type": "error",
     "traceback": [
      "\u001b[1;31m---------------------------------------------------------------------------\u001b[0m",
      "\u001b[1;31mTypeError\u001b[0m                                 Traceback (most recent call last)",
      "\u001b[1;32m<ipython-input-7-35bcdbd59e4e>\u001b[0m in \u001b[0;36m<module>\u001b[1;34m\u001b[0m\n\u001b[1;32m----> 1\u001b[1;33m write_pink_file_v2(\"C:/Users/X230/Downloads/LOFAR_HBA_T1_DR1_catalog_v1.0.srl.fits\",\n\u001b[0m\u001b[0;32m      2\u001b[0m                   \u001b[1;34m\"C:/Users/X230/Downloads/\"\u001b[0m\u001b[1;33m,\u001b[0m\u001b[1;33m\u001b[0m\u001b[1;33m\u001b[0m\u001b[0m\n\u001b[0;32m      3\u001b[0m                   \u001b[1;34m\"C:/Users/X230/Downloads/\"\u001b[0m\u001b[1;33m,\u001b[0m\u001b[1;33m\u001b[0m\u001b[1;33m\u001b[0m\u001b[0m\n\u001b[0;32m      4\u001b[0m                   \u001b[0mimage_size\u001b[0m\u001b[1;33m=\u001b[0m\u001b[1;36m200\u001b[0m\u001b[1;33m,\u001b[0m\u001b[1;33m\u001b[0m\u001b[1;33m\u001b[0m\u001b[0m\n\u001b[0;32m      5\u001b[0m                   \u001b[0mdownload\u001b[0m\u001b[1;33m=\u001b[0m\u001b[1;32mTrue\u001b[0m\u001b[1;33m,\u001b[0m\u001b[1;33m\u001b[0m\u001b[1;33m\u001b[0m\u001b[0m\n",
      "\u001b[1;32m<ipython-input-3-5d894705e370>\u001b[0m in \u001b[0;36mwrite_pink_file_v2\u001b[1;34m(catalog_path, filepath, output_mosaic_path, image_size, min_max_scale, save_in_different_files, download)\u001b[0m\n\u001b[0;32m     21\u001b[0m                                                                           min_max_scale=min_max_scale)\n\u001b[0;32m     22\u001b[0m         \u001b[1;32melse\u001b[0m\u001b[1;33m:\u001b[0m\u001b[1;33m\u001b[0m\u001b[1;33m\u001b[0m\u001b[0m\n\u001b[1;32m---> 23\u001b[1;33m             pink_bin_file = hda_fits.write_mosaic_objects_to_pink_file_v2(filepath=filepath + f\"all_objects_pink.bin\",\n\u001b[0m\u001b[0;32m     24\u001b[0m                                                                           \u001b[0mcoordinates\u001b[0m\u001b[1;33m=\u001b[0m\u001b[0mcoord\u001b[0m\u001b[1;33m,\u001b[0m\u001b[0mhdu\u001b[0m\u001b[1;33m=\u001b[0m\u001b[0mhdu\u001b[0m\u001b[1;33m,\u001b[0m\u001b[1;33m\u001b[0m\u001b[1;33m\u001b[0m\u001b[0m\n\u001b[0;32m     25\u001b[0m                                                                           \u001b[0mimage_size\u001b[0m\u001b[1;33m=\u001b[0m\u001b[0mimage_size\u001b[0m\u001b[1;33m,\u001b[0m\u001b[1;33m\u001b[0m\u001b[1;33m\u001b[0m\u001b[0m\n",
      "\u001b[1;32mc:\\users\\x230\\appdata\\local\\programs\\python\\python38\\lib\\site-packages\\hda_fits\\pink.py\u001b[0m in \u001b[0;36mwrite_mosaic_objects_to_pink_file_v2\u001b[1;34m(filepath, hdu, coordinates, image_size, min_max_scale)\u001b[0m\n\u001b[0;32m     60\u001b[0m     )\n\u001b[0;32m     61\u001b[0m     \u001b[1;32mfor\u001b[0m \u001b[0mcoord\u001b[0m \u001b[1;32min\u001b[0m \u001b[0mcoordinates\u001b[0m\u001b[1;33m:\u001b[0m\u001b[1;33m\u001b[0m\u001b[1;33m\u001b[0m\u001b[0m\n\u001b[1;32m---> 62\u001b[1;33m         \u001b[0mdata\u001b[0m \u001b[1;33m=\u001b[0m \u001b[0mhfits\u001b[0m\u001b[1;33m.\u001b[0m\u001b[0mcreate_cutout2D_as_flattened_numpy_array\u001b[0m\u001b[1;33m(\u001b[0m\u001b[0mhdu\u001b[0m\u001b[1;33m,\u001b[0m \u001b[0mcoord\u001b[0m\u001b[1;33m,\u001b[0m \u001b[0mimage_size\u001b[0m\u001b[1;33m)\u001b[0m\u001b[1;33m\u001b[0m\u001b[1;33m\u001b[0m\u001b[0m\n\u001b[0m\u001b[0;32m     63\u001b[0m \u001b[1;33m\u001b[0m\u001b[0m\n\u001b[0;32m     64\u001b[0m         \u001b[1;32mif\u001b[0m \u001b[0mmin_max_scale\u001b[0m\u001b[1;33m:\u001b[0m\u001b[1;33m\u001b[0m\u001b[1;33m\u001b[0m\u001b[0m\n",
      "\u001b[1;32mc:\\users\\x230\\appdata\\local\\programs\\python\\python38\\lib\\site-packages\\hda_fits\\fits.py\u001b[0m in \u001b[0;36mcreate_cutout2D_as_flattened_numpy_array\u001b[1;34m(hdu, coordinates, size, wcs)\u001b[0m\n\u001b[0;32m    125\u001b[0m     \u001b[0mwcs\u001b[0m\u001b[1;33m:\u001b[0m \u001b[0mWCS\u001b[0m \u001b[1;33m=\u001b[0m \u001b[1;32mNone\u001b[0m\u001b[1;33m,\u001b[0m\u001b[1;33m\u001b[0m\u001b[1;33m\u001b[0m\u001b[0m\n\u001b[0;32m    126\u001b[0m ) -> np.ndarray:\n\u001b[1;32m--> 127\u001b[1;33m     \u001b[1;32mreturn\u001b[0m \u001b[0mcreate_cutout2D\u001b[0m\u001b[1;33m(\u001b[0m\u001b[0mhdu\u001b[0m\u001b[1;33m,\u001b[0m \u001b[0mcoordinates\u001b[0m\u001b[1;33m,\u001b[0m \u001b[0msize\u001b[0m\u001b[1;33m,\u001b[0m \u001b[0mwcs\u001b[0m\u001b[1;33m)\u001b[0m\u001b[1;33m.\u001b[0m\u001b[0mdata\u001b[0m\u001b[1;33m.\u001b[0m\u001b[0mflatten\u001b[0m\u001b[1;33m(\u001b[0m\u001b[1;33m)\u001b[0m\u001b[1;33m.\u001b[0m\u001b[0mastype\u001b[0m\u001b[1;33m(\u001b[0m\u001b[1;34m\"float32\"\u001b[0m\u001b[1;33m)\u001b[0m\u001b[1;33m\u001b[0m\u001b[1;33m\u001b[0m\u001b[0m\n\u001b[0m\u001b[0;32m    128\u001b[0m \u001b[1;33m\u001b[0m\u001b[0m\n\u001b[0;32m    129\u001b[0m \u001b[1;33m\u001b[0m\u001b[0m\n",
      "\u001b[1;32mc:\\users\\x230\\appdata\\local\\programs\\python\\python38\\lib\\site-packages\\hda_fits\\fits.py\u001b[0m in \u001b[0;36mcreate_cutout2D\u001b[1;34m(hdu, coordinates, size, wcs)\u001b[0m\n\u001b[0;32m    115\u001b[0m         \u001b[0mwcs\u001b[0m \u001b[1;33m=\u001b[0m \u001b[0mWCS\u001b[0m\u001b[1;33m(\u001b[0m\u001b[0mhdu\u001b[0m\u001b[1;33m.\u001b[0m\u001b[0mheader\u001b[0m\u001b[1;33m)\u001b[0m\u001b[1;33m\u001b[0m\u001b[1;33m\u001b[0m\u001b[0m\n\u001b[0;32m    116\u001b[0m     \u001b[0mposition\u001b[0m \u001b[1;33m=\u001b[0m \u001b[0mwcs\u001b[0m\u001b[1;33m.\u001b[0m\u001b[0mwcs_world2pix\u001b[0m\u001b[1;33m(\u001b[0m\u001b[1;33m[\u001b[0m\u001b[0mcoordinates\u001b[0m\u001b[1;33m]\u001b[0m\u001b[1;33m,\u001b[0m \u001b[1;36m0\u001b[0m\u001b[1;33m)\u001b[0m\u001b[1;33m\u001b[0m\u001b[1;33m\u001b[0m\u001b[0m\n\u001b[1;32m--> 117\u001b[1;33m     \u001b[0mcutout\u001b[0m \u001b[1;33m=\u001b[0m \u001b[0mCutout2D\u001b[0m\u001b[1;33m(\u001b[0m\u001b[0mhdu\u001b[0m\u001b[1;33m.\u001b[0m\u001b[0mdata\u001b[0m\u001b[1;33m,\u001b[0m \u001b[0mposition\u001b[0m\u001b[1;33m[\u001b[0m\u001b[1;36m0\u001b[0m\u001b[1;33m]\u001b[0m\u001b[1;33m,\u001b[0m \u001b[0msize\u001b[0m\u001b[1;33m,\u001b[0m \u001b[0mwcs\u001b[0m\u001b[1;33m=\u001b[0m\u001b[0mwcs\u001b[0m\u001b[1;33m)\u001b[0m\u001b[1;33m\u001b[0m\u001b[1;33m\u001b[0m\u001b[0m\n\u001b[0m\u001b[0;32m    118\u001b[0m     \u001b[1;32mreturn\u001b[0m \u001b[0mcutout\u001b[0m\u001b[1;33m\u001b[0m\u001b[1;33m\u001b[0m\u001b[0m\n\u001b[0;32m    119\u001b[0m \u001b[1;33m\u001b[0m\u001b[0m\n",
      "\u001b[1;32mc:\\users\\x230\\appdata\\local\\programs\\python\\python38\\lib\\site-packages\\astropy\\utils\\decorators.py\u001b[0m in \u001b[0;36m__get__\u001b[1;34m(self, obj, owner)\u001b[0m\n\u001b[0;32m    765\u001b[0m                     \u001b[0mval\u001b[0m \u001b[1;33m=\u001b[0m \u001b[0mobj_dict\u001b[0m\u001b[1;33m.\u001b[0m\u001b[0mget\u001b[0m\u001b[1;33m(\u001b[0m\u001b[0mself\u001b[0m\u001b[1;33m.\u001b[0m\u001b[0m_key\u001b[0m\u001b[1;33m,\u001b[0m \u001b[0m_NotFound\u001b[0m\u001b[1;33m)\u001b[0m\u001b[1;33m\u001b[0m\u001b[1;33m\u001b[0m\u001b[0m\n\u001b[0;32m    766\u001b[0m                     \u001b[1;32mif\u001b[0m \u001b[0mval\u001b[0m \u001b[1;32mis\u001b[0m \u001b[0m_NotFound\u001b[0m\u001b[1;33m:\u001b[0m\u001b[1;33m\u001b[0m\u001b[1;33m\u001b[0m\u001b[0m\n\u001b[1;32m--> 767\u001b[1;33m                         \u001b[0mval\u001b[0m \u001b[1;33m=\u001b[0m \u001b[0mself\u001b[0m\u001b[1;33m.\u001b[0m\u001b[0mfget\u001b[0m\u001b[1;33m(\u001b[0m\u001b[0mobj\u001b[0m\u001b[1;33m)\u001b[0m\u001b[1;33m\u001b[0m\u001b[1;33m\u001b[0m\u001b[0m\n\u001b[0m\u001b[0;32m    768\u001b[0m                         \u001b[0mobj_dict\u001b[0m\u001b[1;33m[\u001b[0m\u001b[0mself\u001b[0m\u001b[1;33m.\u001b[0m\u001b[0m_key\u001b[0m\u001b[1;33m]\u001b[0m \u001b[1;33m=\u001b[0m \u001b[0mval\u001b[0m\u001b[1;33m\u001b[0m\u001b[1;33m\u001b[0m\u001b[0m\n\u001b[0;32m    769\u001b[0m             \u001b[1;32mreturn\u001b[0m \u001b[0mval\u001b[0m\u001b[1;33m\u001b[0m\u001b[1;33m\u001b[0m\u001b[0m\n",
      "\u001b[1;32mc:\\users\\x230\\appdata\\local\\programs\\python\\python38\\lib\\site-packages\\astropy\\io\\fits\\hdu\\image.py\u001b[0m in \u001b[0;36mdata\u001b[1;34m(self)\u001b[0m\n\u001b[0;32m    238\u001b[0m             \u001b[1;32mreturn\u001b[0m\u001b[1;33m\u001b[0m\u001b[1;33m\u001b[0m\u001b[0m\n\u001b[0;32m    239\u001b[0m \u001b[1;33m\u001b[0m\u001b[0m\n\u001b[1;32m--> 240\u001b[1;33m         \u001b[0mdata\u001b[0m \u001b[1;33m=\u001b[0m \u001b[0mself\u001b[0m\u001b[1;33m.\u001b[0m\u001b[0m_get_scaled_image_data\u001b[0m\u001b[1;33m(\u001b[0m\u001b[0mself\u001b[0m\u001b[1;33m.\u001b[0m\u001b[0m_data_offset\u001b[0m\u001b[1;33m,\u001b[0m \u001b[0mself\u001b[0m\u001b[1;33m.\u001b[0m\u001b[0mshape\u001b[0m\u001b[1;33m)\u001b[0m\u001b[1;33m\u001b[0m\u001b[1;33m\u001b[0m\u001b[0m\n\u001b[0m\u001b[0;32m    241\u001b[0m         \u001b[0mself\u001b[0m\u001b[1;33m.\u001b[0m\u001b[0m_update_header_scale_info\u001b[0m\u001b[1;33m(\u001b[0m\u001b[0mdata\u001b[0m\u001b[1;33m.\u001b[0m\u001b[0mdtype\u001b[0m\u001b[1;33m)\u001b[0m\u001b[1;33m\u001b[0m\u001b[1;33m\u001b[0m\u001b[0m\n\u001b[0;32m    242\u001b[0m \u001b[1;33m\u001b[0m\u001b[0m\n",
      "\u001b[1;32mc:\\users\\x230\\appdata\\local\\programs\\python\\python38\\lib\\site-packages\\astropy\\io\\fits\\hdu\\image.py\u001b[0m in \u001b[0;36m_get_scaled_image_data\u001b[1;34m(self, offset, shape)\u001b[0m\n\u001b[0;32m    777\u001b[0m         \u001b[0mcode\u001b[0m \u001b[1;33m=\u001b[0m \u001b[0mBITPIX2DTYPE\u001b[0m\u001b[1;33m[\u001b[0m\u001b[0mself\u001b[0m\u001b[1;33m.\u001b[0m\u001b[0m_orig_bitpix\u001b[0m\u001b[1;33m]\u001b[0m\u001b[1;33m\u001b[0m\u001b[1;33m\u001b[0m\u001b[0m\n\u001b[0;32m    778\u001b[0m \u001b[1;33m\u001b[0m\u001b[0m\n\u001b[1;32m--> 779\u001b[1;33m         \u001b[0mraw_data\u001b[0m \u001b[1;33m=\u001b[0m \u001b[0mself\u001b[0m\u001b[1;33m.\u001b[0m\u001b[0m_get_raw_data\u001b[0m\u001b[1;33m(\u001b[0m\u001b[0mshape\u001b[0m\u001b[1;33m,\u001b[0m \u001b[0mcode\u001b[0m\u001b[1;33m,\u001b[0m \u001b[0moffset\u001b[0m\u001b[1;33m)\u001b[0m\u001b[1;33m\u001b[0m\u001b[1;33m\u001b[0m\u001b[0m\n\u001b[0m\u001b[0;32m    780\u001b[0m         \u001b[0mraw_data\u001b[0m\u001b[1;33m.\u001b[0m\u001b[0mdtype\u001b[0m \u001b[1;33m=\u001b[0m \u001b[0mraw_data\u001b[0m\u001b[1;33m.\u001b[0m\u001b[0mdtype\u001b[0m\u001b[1;33m.\u001b[0m\u001b[0mnewbyteorder\u001b[0m\u001b[1;33m(\u001b[0m\u001b[1;34m'>'\u001b[0m\u001b[1;33m)\u001b[0m\u001b[1;33m\u001b[0m\u001b[1;33m\u001b[0m\u001b[0m\n\u001b[0;32m    781\u001b[0m \u001b[1;33m\u001b[0m\u001b[0m\n",
      "\u001b[1;32mc:\\users\\x230\\appdata\\local\\programs\\python\\python38\\lib\\site-packages\\astropy\\io\\fits\\hdu\\base.py\u001b[0m in \u001b[0;36m_get_raw_data\u001b[1;34m(self, shape, code, offset)\u001b[0m\n\u001b[0;32m    527\u001b[0m                               offset=offset)\n\u001b[0;32m    528\u001b[0m         \u001b[1;32melif\u001b[0m \u001b[0mself\u001b[0m\u001b[1;33m.\u001b[0m\u001b[0m_file\u001b[0m\u001b[1;33m:\u001b[0m\u001b[1;33m\u001b[0m\u001b[1;33m\u001b[0m\u001b[0m\n\u001b[1;32m--> 529\u001b[1;33m             \u001b[1;32mreturn\u001b[0m \u001b[0mself\u001b[0m\u001b[1;33m.\u001b[0m\u001b[0m_file\u001b[0m\u001b[1;33m.\u001b[0m\u001b[0mreadarray\u001b[0m\u001b[1;33m(\u001b[0m\u001b[0moffset\u001b[0m\u001b[1;33m=\u001b[0m\u001b[0moffset\u001b[0m\u001b[1;33m,\u001b[0m \u001b[0mdtype\u001b[0m\u001b[1;33m=\u001b[0m\u001b[0mcode\u001b[0m\u001b[1;33m,\u001b[0m \u001b[0mshape\u001b[0m\u001b[1;33m=\u001b[0m\u001b[0mshape\u001b[0m\u001b[1;33m)\u001b[0m\u001b[1;33m\u001b[0m\u001b[1;33m\u001b[0m\u001b[0m\n\u001b[0m\u001b[0;32m    530\u001b[0m         \u001b[1;32melse\u001b[0m\u001b[1;33m:\u001b[0m\u001b[1;33m\u001b[0m\u001b[1;33m\u001b[0m\u001b[0m\n\u001b[0;32m    531\u001b[0m             \u001b[1;32mreturn\u001b[0m \u001b[1;32mNone\u001b[0m\u001b[1;33m\u001b[0m\u001b[1;33m\u001b[0m\u001b[0m\n",
      "\u001b[1;32mc:\\users\\x230\\appdata\\local\\programs\\python\\python38\\lib\\site-packages\\astropy\\io\\fits\\file.py\u001b[0m in \u001b[0;36mreadarray\u001b[1;34m(self, size, offset, dtype, shape)\u001b[0m\n\u001b[0;32m    322\u001b[0m                             \u001b[1;32mraise\u001b[0m\u001b[1;33m\u001b[0m\u001b[1;33m\u001b[0m\u001b[0m\n\u001b[0;32m    323\u001b[0m \u001b[1;33m\u001b[0m\u001b[0m\n\u001b[1;32m--> 324\u001b[1;33m                 return np.ndarray(shape=shape, dtype=dtype, offset=offset,\n\u001b[0m\u001b[0;32m    325\u001b[0m                                   buffer=self._mmap)\n\u001b[0;32m    326\u001b[0m             \u001b[1;32melse\u001b[0m\u001b[1;33m:\u001b[0m\u001b[1;33m\u001b[0m\u001b[1;33m\u001b[0m\u001b[0m\n",
      "\u001b[1;31mTypeError\u001b[0m: buffer is too small for requested array"
     ]
    }
   ],
   "source": [
    "write_pink_file_v2(\"C:/Users/X230/Downloads/LOFAR_HBA_T1_DR1_catalog_v1.0.srl.fits\",\n",
    "                  \"C:/Users/X230/Downloads/\",\n",
    "                  \"C:/Users/X230/Downloads/\",\n",
    "                  image_size=200,\n",
    "                  download=True,\n",
    "                  save_in_different_files=False)"
   ]
  },
  {
   "cell_type": "code",
   "execution_count": 16,
   "metadata": {},
   "outputs": [
    {
     "name": "stdout",
     "output_type": "stream",
     "text": [
      "Welcome to PostgreSQL! \n",
      "\n",
      "Type :version to see the PostgreSQL version. \n",
      "\n",
      "Type :extensions to see the available extensions. \n",
      "\n",
      "Type \\q to exit. \n",
      "\n",
      "GRANT ROLE\n",
      "Time: 0.681 ms\n",
      "Welcome to PostgreSQL! \n",
      "\n",
      "Type :version to see the PostgreSQL version. \n",
      "\n",
      "Type :extensions to see the available extensions. \n",
      "\n",
      "Type \\q to exit. \n",
      "\n",
      "REVOKE\n",
      "Time: 0.815 ms\n",
      "Welcome to PostgreSQL! \n",
      "\n",
      "Type :version to see the PostgreSQL version. \n",
      "\n",
      "Type :extensions to see the available extensions. \n",
      "\n",
      "Type \\q to exit. \n",
      "\n",
      "Time: 0.530 ms\n",
      "/home/stjemahz/data/example.txt\n"
     ]
    }
   ],
   "source": [
    "host = \"postgres.fbi.h-da.de\"\n",
    "port=22\n",
    "username=\"stjemahz\"\n",
    "password=\"Zathura96!!\"\n",
    "\n",
    "ssh = paramiko.SSHClient()\n",
    "ssh.set_missing_host_key_policy(paramiko.AutoAddPolicy())\n",
    "ssh.connect(host,port,username,password)\n",
    "# sftp = ssh.open_sftp()\n",
    "stdin, stdout, stderr = ssh.exec_command(\"find /home/stjemahz -name *.txt\")\n",
    "for line in stdout:\n",
    "    print(line.strip(\"\\n\"))"
   ]
  },
  {
   "cell_type": "code",
   "execution_count": 3,
   "metadata": {},
   "outputs": [
    {
     "data": {
      "text/html": [
       "<div>\n",
       "<style scoped>\n",
       "    .dataframe tbody tr th:only-of-type {\n",
       "        vertical-align: middle;\n",
       "    }\n",
       "\n",
       "    .dataframe tbody tr th {\n",
       "        vertical-align: top;\n",
       "    }\n",
       "\n",
       "    .dataframe thead th {\n",
       "        text-align: right;\n",
       "    }\n",
       "</style>\n",
       "<table border=\"1\" class=\"dataframe\">\n",
       "  <thead>\n",
       "    <tr style=\"text-align: right;\">\n",
       "      <th></th>\n",
       "      <th>Source_Name</th>\n",
       "      <th>RA</th>\n",
       "      <th>DEC</th>\n",
       "      <th>Mosaic_ID</th>\n",
       "    </tr>\n",
       "  </thead>\n",
       "  <tbody>\n",
       "    <tr>\n",
       "      <th>182259</th>\n",
       "      <td>ILTJ134917.04+535737.2</td>\n",
       "      <td>207.320991</td>\n",
       "      <td>53.960334</td>\n",
       "      <td>P205+55</td>\n",
       "    </tr>\n",
       "    <tr>\n",
       "      <th>182260</th>\n",
       "      <td>ILTJ134916.45+535801.7</td>\n",
       "      <td>207.318522</td>\n",
       "      <td>53.967151</td>\n",
       "      <td>P205+55</td>\n",
       "    </tr>\n",
       "    <tr>\n",
       "      <th>182261</th>\n",
       "      <td>ILTJ134915.23+540433.5</td>\n",
       "      <td>207.313443</td>\n",
       "      <td>54.075982</td>\n",
       "      <td>P205+55</td>\n",
       "    </tr>\n",
       "    <tr>\n",
       "      <th>182262</th>\n",
       "      <td>ILTJ134915.03+540812.1</td>\n",
       "      <td>207.312622</td>\n",
       "      <td>54.136707</td>\n",
       "      <td>P205+55</td>\n",
       "    </tr>\n",
       "    <tr>\n",
       "      <th>182263</th>\n",
       "      <td>ILTJ134911.34+540239.4</td>\n",
       "      <td>207.297256</td>\n",
       "      <td>54.044286</td>\n",
       "      <td>P205+55</td>\n",
       "    </tr>\n",
       "    <tr>\n",
       "      <th>...</th>\n",
       "      <td>...</td>\n",
       "      <td>...</td>\n",
       "      <td>...</td>\n",
       "      <td>...</td>\n",
       "    </tr>\n",
       "    <tr>\n",
       "      <th>189028</th>\n",
       "      <td>ILTJ134000.89+562526.5</td>\n",
       "      <td>205.003718</td>\n",
       "      <td>56.424033</td>\n",
       "      <td>P205+55</td>\n",
       "    </tr>\n",
       "    <tr>\n",
       "      <th>189029</th>\n",
       "      <td>ILTJ133759.61+550106.4</td>\n",
       "      <td>204.498375</td>\n",
       "      <td>55.018459</td>\n",
       "      <td>P205+55</td>\n",
       "    </tr>\n",
       "    <tr>\n",
       "      <th>189030</th>\n",
       "      <td>ILTJ133614.95+544711.3</td>\n",
       "      <td>204.062292</td>\n",
       "      <td>54.786475</td>\n",
       "      <td>P205+55</td>\n",
       "    </tr>\n",
       "    <tr>\n",
       "      <th>189031</th>\n",
       "      <td>ILTJ133340.22+540139.8</td>\n",
       "      <td>203.417603</td>\n",
       "      <td>54.027725</td>\n",
       "      <td>P205+55</td>\n",
       "    </tr>\n",
       "    <tr>\n",
       "      <th>189032</th>\n",
       "      <td>ILTJ133233.91+541927.4</td>\n",
       "      <td>203.141307</td>\n",
       "      <td>54.324278</td>\n",
       "      <td>P205+55</td>\n",
       "    </tr>\n",
       "  </tbody>\n",
       "</table>\n",
       "<p>6774 rows × 4 columns</p>\n",
       "</div>"
      ],
      "text/plain": [
       "                   Source_Name          RA        DEC Mosaic_ID\n",
       "182259  ILTJ134917.04+535737.2  207.320991  53.960334   P205+55\n",
       "182260  ILTJ134916.45+535801.7  207.318522  53.967151   P205+55\n",
       "182261  ILTJ134915.23+540433.5  207.313443  54.075982   P205+55\n",
       "182262  ILTJ134915.03+540812.1  207.312622  54.136707   P205+55\n",
       "182263  ILTJ134911.34+540239.4  207.297256  54.044286   P205+55\n",
       "...                        ...         ...        ...       ...\n",
       "189028  ILTJ134000.89+562526.5  205.003718  56.424033   P205+55\n",
       "189029  ILTJ133759.61+550106.4  204.498375  55.018459   P205+55\n",
       "189030  ILTJ133614.95+544711.3  204.062292  54.786475   P205+55\n",
       "189031  ILTJ133340.22+540139.8  203.417603  54.027725   P205+55\n",
       "189032  ILTJ133233.91+541927.4  203.141307  54.324278   P205+55\n",
       "\n",
       "[6774 rows x 4 columns]"
      ]
     },
     "execution_count": 3,
     "metadata": {},
     "output_type": "execute_result"
    }
   ],
   "source": [
    "catalog = catalog[catalog.Mosaic_ID.str.contains(\"P205\")]\n",
    "catalog"
   ]
  },
  {
   "cell_type": "code",
   "execution_count": 4,
   "metadata": {},
   "outputs": [
    {
     "name": "stderr",
     "output_type": "stream",
     "text": [
      "2021-11-04 19:09:23,978 fits.py: Loading C:/Users/X230/Downloads/P205+55-mosaic.fits\n"
     ]
    }
   ],
   "source": [
    "mosaic = hda_fits.load_mosaic(\"P205+55\", \"C:/Users/X230/Downloads/\", download = True)"
   ]
  },
  {
   "cell_type": "code",
   "execution_count": 5,
   "metadata": {},
   "outputs": [],
   "source": [
    "hdu=mosaic[0]"
   ]
  },
  {
   "cell_type": "code",
   "execution_count": 6,
   "metadata": {},
   "outputs": [],
   "source": [
    "coord = catalog.loc[:,[\"RA\",\"DEC\"]].values.tolist()"
   ]
  },
  {
   "cell_type": "code",
   "execution_count": 8,
   "metadata": {},
   "outputs": [
    {
     "name": "stderr",
     "output_type": "stream",
     "text": [
      "2021-11-04 19:14:49,385 pink.py: Data was truncated. Expected 400, got 360 floats.\n",
      "2021-11-04 19:14:49,770 pink.py: Data was truncated. Expected 400, got 340 floats.\n",
      "2021-11-04 19:15:11,640 pink.py: Wrote 6772 images to ./P205+55_pink_v2.bin\n"
     ]
    },
    {
     "data": {
      "text/plain": [
       "'./P205+55_pink_v2.bin'"
      ]
     },
     "execution_count": 8,
     "metadata": {},
     "output_type": "execute_result"
    }
   ],
   "source": [
    "hda_fits.write_mosaic_objects_to_pink_file_v2(filepath=\"./P205+55_pink_v2.bin\",\n",
    "                                             hdu=hdu,\n",
    "                                             coordinates=coord,\n",
    "                                             image_size=20)"
   ]
  },
  {
   "cell_type": "code",
   "execution_count": 19,
   "metadata": {},
   "outputs": [
    {
     "data": {
      "text/plain": [
       "array(['P205+55'], dtype=object)"
      ]
     },
     "execution_count": 19,
     "metadata": {},
     "output_type": "execute_result"
    }
   ],
   "source": []
  },
  {
   "cell_type": "code",
   "execution_count": 26,
   "metadata": {},
   "outputs": [
    {
     "data": {
      "text/plain": [
       "False"
      ]
     },
     "execution_count": 26,
     "metadata": {},
     "output_type": "execute_result"
    }
   ],
   "source": [
    "type(\"hello\") in [Union[int,str]]"
   ]
  },
  {
   "cell_type": "code",
   "execution_count": 27,
   "metadata": {},
   "outputs": [
    {
     "data": {
      "text/plain": [
       "[typing.Union[int, str]]"
      ]
     },
     "execution_count": 27,
     "metadata": {},
     "output_type": "execute_result"
    }
   ],
   "source": [
    "[Union[int,str]]"
   ]
  },
  {
   "cell_type": "code",
   "execution_count": null,
   "metadata": {},
   "outputs": [],
   "source": []
  }
 ],
 "metadata": {
  "kernelspec": {
   "display_name": "Python 3",
   "language": "python",
   "name": "python3"
  },
  "language_info": {
   "codemirror_mode": {
    "name": "ipython",
    "version": 3
   },
   "file_extension": ".py",
   "mimetype": "text/x-python",
   "name": "python",
   "nbconvert_exporter": "python",
   "pygments_lexer": "ipython3",
   "version": "3.8.5"
  }
 },
 "nbformat": 4,
 "nbformat_minor": 4
}
