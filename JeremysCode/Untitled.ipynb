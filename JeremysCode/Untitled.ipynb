{
 "cells": [
  {
   "cell_type": "code",
   "execution_count": 1,
   "metadata": {},
   "outputs": [],
   "source": [
    "import hda_fits\n",
    "from typing import Union"
   ]
  },
  {
   "cell_type": "code",
   "execution_count": 2,
   "metadata": {},
   "outputs": [
    {
     "data": {
      "text/html": [
       "<div>\n",
       "<style scoped>\n",
       "    .dataframe tbody tr th:only-of-type {\n",
       "        vertical-align: middle;\n",
       "    }\n",
       "\n",
       "    .dataframe tbody tr th {\n",
       "        vertical-align: top;\n",
       "    }\n",
       "\n",
       "    .dataframe thead th {\n",
       "        text-align: right;\n",
       "    }\n",
       "</style>\n",
       "<table border=\"1\" class=\"dataframe\">\n",
       "  <thead>\n",
       "    <tr style=\"text-align: right;\">\n",
       "      <th></th>\n",
       "      <th>Source_Name</th>\n",
       "      <th>RA</th>\n",
       "      <th>DEC</th>\n",
       "      <th>Mosaic_ID</th>\n",
       "    </tr>\n",
       "  </thead>\n",
       "  <tbody>\n",
       "    <tr>\n",
       "      <th>0</th>\n",
       "      <td>ILTJ122108.44+491340.9</td>\n",
       "      <td>185.285169</td>\n",
       "      <td>49.228040</td>\n",
       "      <td>P22Hetdex04</td>\n",
       "    </tr>\n",
       "    <tr>\n",
       "      <th>1</th>\n",
       "      <td>ILTJ122107.85+491951.8</td>\n",
       "      <td>185.282711</td>\n",
       "      <td>49.331069</td>\n",
       "      <td>P22Hetdex04</td>\n",
       "    </tr>\n",
       "    <tr>\n",
       "      <th>2</th>\n",
       "      <td>ILTJ122108.57+493121.9</td>\n",
       "      <td>185.285716</td>\n",
       "      <td>49.522749</td>\n",
       "      <td>P22Hetdex04</td>\n",
       "    </tr>\n",
       "    <tr>\n",
       "      <th>3</th>\n",
       "      <td>ILTJ122104.03+490823.8</td>\n",
       "      <td>185.266779</td>\n",
       "      <td>49.139945</td>\n",
       "      <td>P22Hetdex04</td>\n",
       "    </tr>\n",
       "    <tr>\n",
       "      <th>4</th>\n",
       "      <td>ILTJ122105.03+491440.0</td>\n",
       "      <td>185.270960</td>\n",
       "      <td>49.244449</td>\n",
       "      <td>P22Hetdex04</td>\n",
       "    </tr>\n",
       "    <tr>\n",
       "      <th>...</th>\n",
       "      <td>...</td>\n",
       "      <td>...</td>\n",
       "      <td>...</td>\n",
       "      <td>...</td>\n",
       "    </tr>\n",
       "    <tr>\n",
       "      <th>325689</th>\n",
       "      <td>ILTJ134632.30+485421.1</td>\n",
       "      <td>206.634589</td>\n",
       "      <td>48.905884</td>\n",
       "      <td>P206+50</td>\n",
       "    </tr>\n",
       "    <tr>\n",
       "      <th>325690</th>\n",
       "      <td>ILTJ134454.66+491951.3</td>\n",
       "      <td>206.227760</td>\n",
       "      <td>49.330923</td>\n",
       "      <td>P206+50</td>\n",
       "    </tr>\n",
       "    <tr>\n",
       "      <th>325691</th>\n",
       "      <td>ILTJ134426.19+492250.8</td>\n",
       "      <td>206.109105</td>\n",
       "      <td>49.380788</td>\n",
       "      <td>P206+50</td>\n",
       "    </tr>\n",
       "    <tr>\n",
       "      <th>325692</th>\n",
       "      <td>ILTJ134416.18+484518.6</td>\n",
       "      <td>206.067406</td>\n",
       "      <td>48.755176</td>\n",
       "      <td>P206+50</td>\n",
       "    </tr>\n",
       "    <tr>\n",
       "      <th>325693</th>\n",
       "      <td>ILTJ134311.28+491857.5</td>\n",
       "      <td>205.796987</td>\n",
       "      <td>49.315987</td>\n",
       "      <td>P206+50</td>\n",
       "    </tr>\n",
       "  </tbody>\n",
       "</table>\n",
       "<p>325694 rows × 4 columns</p>\n",
       "</div>"
      ],
      "text/plain": [
       "                   Source_Name          RA        DEC    Mosaic_ID\n",
       "0       ILTJ122108.44+491340.9  185.285169  49.228040  P22Hetdex04\n",
       "1       ILTJ122107.85+491951.8  185.282711  49.331069  P22Hetdex04\n",
       "2       ILTJ122108.57+493121.9  185.285716  49.522749  P22Hetdex04\n",
       "3       ILTJ122104.03+490823.8  185.266779  49.139945  P22Hetdex04\n",
       "4       ILTJ122105.03+491440.0  185.270960  49.244449  P22Hetdex04\n",
       "...                        ...         ...        ...          ...\n",
       "325689  ILTJ134632.30+485421.1  206.634589  48.905884      P206+50\n",
       "325690  ILTJ134454.66+491951.3  206.227760  49.330923      P206+50\n",
       "325691  ILTJ134426.19+492250.8  206.109105  49.380788      P206+50\n",
       "325692  ILTJ134416.18+484518.6  206.067406  48.755176      P206+50\n",
       "325693  ILTJ134311.28+491857.5  205.796987  49.315987      P206+50\n",
       "\n",
       "[325694 rows x 4 columns]"
      ]
     },
     "execution_count": 2,
     "metadata": {},
     "output_type": "execute_result"
    }
   ],
   "source": [
    "catalog = hda_fits.read_shimwell_catalog(\"C:/Users/X230/Downloads/LOFAR_HBA_T1_DR1_catalog_v1.0.srl.fits\",reduced=True)\n",
    "catalog"
   ]
  },
  {
   "cell_type": "code",
   "execution_count": 3,
   "metadata": {},
   "outputs": [
    {
     "data": {
      "text/html": [
       "<div>\n",
       "<style scoped>\n",
       "    .dataframe tbody tr th:only-of-type {\n",
       "        vertical-align: middle;\n",
       "    }\n",
       "\n",
       "    .dataframe tbody tr th {\n",
       "        vertical-align: top;\n",
       "    }\n",
       "\n",
       "    .dataframe thead th {\n",
       "        text-align: right;\n",
       "    }\n",
       "</style>\n",
       "<table border=\"1\" class=\"dataframe\">\n",
       "  <thead>\n",
       "    <tr style=\"text-align: right;\">\n",
       "      <th></th>\n",
       "      <th>Source_Name</th>\n",
       "      <th>RA</th>\n",
       "      <th>DEC</th>\n",
       "      <th>Mosaic_ID</th>\n",
       "    </tr>\n",
       "  </thead>\n",
       "  <tbody>\n",
       "    <tr>\n",
       "      <th>182259</th>\n",
       "      <td>ILTJ134917.04+535737.2</td>\n",
       "      <td>207.320991</td>\n",
       "      <td>53.960334</td>\n",
       "      <td>P205+55</td>\n",
       "    </tr>\n",
       "    <tr>\n",
       "      <th>182260</th>\n",
       "      <td>ILTJ134916.45+535801.7</td>\n",
       "      <td>207.318522</td>\n",
       "      <td>53.967151</td>\n",
       "      <td>P205+55</td>\n",
       "    </tr>\n",
       "    <tr>\n",
       "      <th>182261</th>\n",
       "      <td>ILTJ134915.23+540433.5</td>\n",
       "      <td>207.313443</td>\n",
       "      <td>54.075982</td>\n",
       "      <td>P205+55</td>\n",
       "    </tr>\n",
       "    <tr>\n",
       "      <th>182262</th>\n",
       "      <td>ILTJ134915.03+540812.1</td>\n",
       "      <td>207.312622</td>\n",
       "      <td>54.136707</td>\n",
       "      <td>P205+55</td>\n",
       "    </tr>\n",
       "    <tr>\n",
       "      <th>182263</th>\n",
       "      <td>ILTJ134911.34+540239.4</td>\n",
       "      <td>207.297256</td>\n",
       "      <td>54.044286</td>\n",
       "      <td>P205+55</td>\n",
       "    </tr>\n",
       "    <tr>\n",
       "      <th>...</th>\n",
       "      <td>...</td>\n",
       "      <td>...</td>\n",
       "      <td>...</td>\n",
       "      <td>...</td>\n",
       "    </tr>\n",
       "    <tr>\n",
       "      <th>189028</th>\n",
       "      <td>ILTJ134000.89+562526.5</td>\n",
       "      <td>205.003718</td>\n",
       "      <td>56.424033</td>\n",
       "      <td>P205+55</td>\n",
       "    </tr>\n",
       "    <tr>\n",
       "      <th>189029</th>\n",
       "      <td>ILTJ133759.61+550106.4</td>\n",
       "      <td>204.498375</td>\n",
       "      <td>55.018459</td>\n",
       "      <td>P205+55</td>\n",
       "    </tr>\n",
       "    <tr>\n",
       "      <th>189030</th>\n",
       "      <td>ILTJ133614.95+544711.3</td>\n",
       "      <td>204.062292</td>\n",
       "      <td>54.786475</td>\n",
       "      <td>P205+55</td>\n",
       "    </tr>\n",
       "    <tr>\n",
       "      <th>189031</th>\n",
       "      <td>ILTJ133340.22+540139.8</td>\n",
       "      <td>203.417603</td>\n",
       "      <td>54.027725</td>\n",
       "      <td>P205+55</td>\n",
       "    </tr>\n",
       "    <tr>\n",
       "      <th>189032</th>\n",
       "      <td>ILTJ133233.91+541927.4</td>\n",
       "      <td>203.141307</td>\n",
       "      <td>54.324278</td>\n",
       "      <td>P205+55</td>\n",
       "    </tr>\n",
       "  </tbody>\n",
       "</table>\n",
       "<p>6774 rows × 4 columns</p>\n",
       "</div>"
      ],
      "text/plain": [
       "                   Source_Name          RA        DEC Mosaic_ID\n",
       "182259  ILTJ134917.04+535737.2  207.320991  53.960334   P205+55\n",
       "182260  ILTJ134916.45+535801.7  207.318522  53.967151   P205+55\n",
       "182261  ILTJ134915.23+540433.5  207.313443  54.075982   P205+55\n",
       "182262  ILTJ134915.03+540812.1  207.312622  54.136707   P205+55\n",
       "182263  ILTJ134911.34+540239.4  207.297256  54.044286   P205+55\n",
       "...                        ...         ...        ...       ...\n",
       "189028  ILTJ134000.89+562526.5  205.003718  56.424033   P205+55\n",
       "189029  ILTJ133759.61+550106.4  204.498375  55.018459   P205+55\n",
       "189030  ILTJ133614.95+544711.3  204.062292  54.786475   P205+55\n",
       "189031  ILTJ133340.22+540139.8  203.417603  54.027725   P205+55\n",
       "189032  ILTJ133233.91+541927.4  203.141307  54.324278   P205+55\n",
       "\n",
       "[6774 rows x 4 columns]"
      ]
     },
     "execution_count": 3,
     "metadata": {},
     "output_type": "execute_result"
    }
   ],
   "source": [
    "catalog = catalog[catalog.Mosaic_ID.str.contains(\"P205\")]\n",
    "catalog"
   ]
  },
  {
   "cell_type": "code",
   "execution_count": 4,
   "metadata": {},
   "outputs": [
    {
     "name": "stderr",
     "output_type": "stream",
     "text": [
      "2021-11-04 19:09:23,978 fits.py: Loading C:/Users/X230/Downloads/P205+55-mosaic.fits\n"
     ]
    }
   ],
   "source": [
    "mosaic = hda_fits.load_mosaic(\"P205+55\", \"C:/Users/X230/Downloads/\", download = True)"
   ]
  },
  {
   "cell_type": "code",
   "execution_count": 5,
   "metadata": {},
   "outputs": [],
   "source": [
    "hdu=mosaic[0]"
   ]
  },
  {
   "cell_type": "code",
   "execution_count": 6,
   "metadata": {},
   "outputs": [],
   "source": [
    "coord = catalog.loc[:,[\"RA\",\"DEC\"]].values.tolist()"
   ]
  },
  {
   "cell_type": "code",
   "execution_count": 8,
   "metadata": {},
   "outputs": [
    {
     "name": "stderr",
     "output_type": "stream",
     "text": [
      "2021-11-04 19:14:49,385 pink.py: Data was truncated. Expected 400, got 360 floats.\n",
      "2021-11-04 19:14:49,770 pink.py: Data was truncated. Expected 400, got 340 floats.\n",
      "2021-11-04 19:15:11,640 pink.py: Wrote 6772 images to ./P205+55_pink_v2.bin\n"
     ]
    },
    {
     "data": {
      "text/plain": [
       "'./P205+55_pink_v2.bin'"
      ]
     },
     "execution_count": 8,
     "metadata": {},
     "output_type": "execute_result"
    }
   ],
   "source": [
    "hda_fits.write_mosaic_objects_to_pink_file_v2(filepath=\"./P205+55_pink_v2.bin\",\n",
    "                                             hdu=hdu,\n",
    "                                             coordinates=coord,\n",
    "                                             image_size=20)"
   ]
  },
  {
   "cell_type": "code",
   "execution_count": 19,
   "metadata": {},
   "outputs": [
    {
     "data": {
      "text/plain": [
       "array(['P205+55'], dtype=object)"
      ]
     },
     "execution_count": 19,
     "metadata": {},
     "output_type": "execute_result"
    }
   ],
   "source": []
  },
  {
   "cell_type": "code",
   "execution_count": 26,
   "metadata": {},
   "outputs": [
    {
     "data": {
      "text/plain": [
       "False"
      ]
     },
     "execution_count": 26,
     "metadata": {},
     "output_type": "execute_result"
    }
   ],
   "source": [
    "type(\"hello\") in [Union[int,str]]"
   ]
  },
  {
   "cell_type": "code",
   "execution_count": 27,
   "metadata": {},
   "outputs": [
    {
     "data": {
      "text/plain": [
       "[typing.Union[int, str]]"
      ]
     },
     "execution_count": 27,
     "metadata": {},
     "output_type": "execute_result"
    }
   ],
   "source": [
    "[Union[int,str]]"
   ]
  },
  {
   "cell_type": "code",
   "execution_count": null,
   "metadata": {},
   "outputs": [],
   "source": []
  }
 ],
 "metadata": {
  "kernelspec": {
   "display_name": "Python 3",
   "language": "python",
   "name": "python3"
  },
  "language_info": {
   "codemirror_mode": {
    "name": "ipython",
    "version": 3
   },
   "file_extension": ".py",
   "mimetype": "text/x-python",
   "name": "python",
   "nbconvert_exporter": "python",
   "pygments_lexer": "ipython3",
   "version": "3.8.5"
  }
 },
 "nbformat": 4,
 "nbformat_minor": 4
}
