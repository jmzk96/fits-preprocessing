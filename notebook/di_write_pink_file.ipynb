{
 "cells": [
  {
   "cell_type": "code",
   "execution_count": 3,
   "metadata": {},
   "outputs": [],
   "source": [
    "%load_ext autoreload\n",
    "%autoreload 2"
   ]
  },
  {
   "cell_type": "code",
   "execution_count": 30,
   "metadata": {},
   "outputs": [],
   "source": [
    "import os\n",
    "import struct\n",
    "import numpy as np\n",
    "import matplotlib.pyplot as plt\n",
    "import seaborn as sns\n",
    "import pandas as pd\n",
    "from astropy.io import fits\n",
    "from astropy.coordinates import SkyCoord\n",
    "from astropy.wcs import WCS\n",
    "from astropy.wcs.utils import wcs_to_celestial_frame\n",
    "from astropy.table import Table\n",
    "from astropy.nddata import Cutout2D\n",
    "from astropy.io.fits.hdu.image import PrimaryHDU\n",
    "import astropy.units as u\n",
    "\n",
    "import hda_fits.fits as hfits\n",
    "from hda_fits.fits import column_dtype_byte_to_string, read_shimwell_catalog\n",
    "\n",
    "plt.rcParams[\"figure.figsize\"] = (12, 8)"
   ]
  },
  {
   "cell_type": "code",
   "execution_count": null,
   "metadata": {},
   "outputs": [],
   "source": [
    "def write_pink_file_v2_header(filepath: str, number_of_images: int, image_height: int, image_width: int):\n",
    "    with open(filepath, 'wb') as f:\n",
    "        f.write(struct.pack('i' * 8, 2, 0, 0, number_of_images, 0, 2, image_height, image_width))\n",
    "\n",
    "def write_pink_file_v2_data(filepath, data: np.array):\n",
    "    with open(filepath, 'ab') as f:\n",
    "        f.write(struct.pack('%sf' % data.size, *data.tolist()))\n",
    "\n",
    "def write_mosaic_objects_to_pink_file_v2(filepath: str, hdu: PrimaryHDU, coordinates: List[WCSCoordinates], size: Union[int, RectangleSize]):\n",
    "    write_pink_file_v2_header(filepath, 10, 200, 200)\n",
    "    for coord in coords:\n",
    "        data = hfits.create_cutout2D_as_flattened_numpy_array(hdu, coord, 200)\n",
    "        write_pink_file_v2_data(filepath, data)\n"
   ]
  },
  {
   "cell_type": "markdown",
   "metadata": {},
   "source": [
    "## Create table subset including P205+55 entries"
   ]
  },
  {
   "cell_type": "code",
   "execution_count": 2,
   "metadata": {},
   "outputs": [],
   "source": [
    "tab = read_shimwell_catalog(\"../data/LOFAR_HBA_T1_DR1_catalog_v1.0.srl.fits\", reduced=True)\n",
    "tab = tab[tab.Mosaic_ID.str.contains(\"P205\")].loc[:, [\"Source_Name\", \"RA\", \"DEC\", \"Mosaic_ID\"]]"
   ]
  },
  {
   "cell_type": "code",
   "execution_count": 4,
   "metadata": {},
   "outputs": [
    {
     "data": {
      "text/html": [
       "<div>\n",
       "<style scoped>\n",
       "    .dataframe tbody tr th:only-of-type {\n",
       "        vertical-align: middle;\n",
       "    }\n",
       "\n",
       "    .dataframe tbody tr th {\n",
       "        vertical-align: top;\n",
       "    }\n",
       "\n",
       "    .dataframe thead th {\n",
       "        text-align: right;\n",
       "    }\n",
       "</style>\n",
       "<table border=\"1\" class=\"dataframe\">\n",
       "  <thead>\n",
       "    <tr style=\"text-align: right;\">\n",
       "      <th></th>\n",
       "      <th>Source_Name</th>\n",
       "      <th>RA</th>\n",
       "      <th>DEC</th>\n",
       "      <th>Mosaic_ID</th>\n",
       "    </tr>\n",
       "  </thead>\n",
       "  <tbody>\n",
       "    <tr>\n",
       "      <th>182259</th>\n",
       "      <td>ILTJ134917.04+535737.2</td>\n",
       "      <td>207.320991</td>\n",
       "      <td>53.960334</td>\n",
       "      <td>P205+55</td>\n",
       "    </tr>\n",
       "    <tr>\n",
       "      <th>182260</th>\n",
       "      <td>ILTJ134916.45+535801.7</td>\n",
       "      <td>207.318522</td>\n",
       "      <td>53.967151</td>\n",
       "      <td>P205+55</td>\n",
       "    </tr>\n",
       "    <tr>\n",
       "      <th>182261</th>\n",
       "      <td>ILTJ134915.23+540433.5</td>\n",
       "      <td>207.313443</td>\n",
       "      <td>54.075982</td>\n",
       "      <td>P205+55</td>\n",
       "    </tr>\n",
       "    <tr>\n",
       "      <th>182262</th>\n",
       "      <td>ILTJ134915.03+540812.1</td>\n",
       "      <td>207.312622</td>\n",
       "      <td>54.136707</td>\n",
       "      <td>P205+55</td>\n",
       "    </tr>\n",
       "    <tr>\n",
       "      <th>182263</th>\n",
       "      <td>ILTJ134911.34+540239.4</td>\n",
       "      <td>207.297256</td>\n",
       "      <td>54.044286</td>\n",
       "      <td>P205+55</td>\n",
       "    </tr>\n",
       "    <tr>\n",
       "      <th>...</th>\n",
       "      <td>...</td>\n",
       "      <td>...</td>\n",
       "      <td>...</td>\n",
       "      <td>...</td>\n",
       "    </tr>\n",
       "    <tr>\n",
       "      <th>189028</th>\n",
       "      <td>ILTJ134000.89+562526.5</td>\n",
       "      <td>205.003718</td>\n",
       "      <td>56.424033</td>\n",
       "      <td>P205+55</td>\n",
       "    </tr>\n",
       "    <tr>\n",
       "      <th>189029</th>\n",
       "      <td>ILTJ133759.61+550106.4</td>\n",
       "      <td>204.498375</td>\n",
       "      <td>55.018459</td>\n",
       "      <td>P205+55</td>\n",
       "    </tr>\n",
       "    <tr>\n",
       "      <th>189030</th>\n",
       "      <td>ILTJ133614.95+544711.3</td>\n",
       "      <td>204.062292</td>\n",
       "      <td>54.786475</td>\n",
       "      <td>P205+55</td>\n",
       "    </tr>\n",
       "    <tr>\n",
       "      <th>189031</th>\n",
       "      <td>ILTJ133340.22+540139.8</td>\n",
       "      <td>203.417603</td>\n",
       "      <td>54.027725</td>\n",
       "      <td>P205+55</td>\n",
       "    </tr>\n",
       "    <tr>\n",
       "      <th>189032</th>\n",
       "      <td>ILTJ133233.91+541927.4</td>\n",
       "      <td>203.141307</td>\n",
       "      <td>54.324278</td>\n",
       "      <td>P205+55</td>\n",
       "    </tr>\n",
       "  </tbody>\n",
       "</table>\n",
       "<p>6774 rows × 4 columns</p>\n",
       "</div>"
      ],
      "text/plain": [
       "                   Source_Name          RA        DEC Mosaic_ID\n",
       "182259  ILTJ134917.04+535737.2  207.320991  53.960334   P205+55\n",
       "182260  ILTJ134916.45+535801.7  207.318522  53.967151   P205+55\n",
       "182261  ILTJ134915.23+540433.5  207.313443  54.075982   P205+55\n",
       "182262  ILTJ134915.03+540812.1  207.312622  54.136707   P205+55\n",
       "182263  ILTJ134911.34+540239.4  207.297256  54.044286   P205+55\n",
       "...                        ...         ...        ...       ...\n",
       "189028  ILTJ134000.89+562526.5  205.003718  56.424033   P205+55\n",
       "189029  ILTJ133759.61+550106.4  204.498375  55.018459   P205+55\n",
       "189030  ILTJ133614.95+544711.3  204.062292  54.786475   P205+55\n",
       "189031  ILTJ133340.22+540139.8  203.417603  54.027725   P205+55\n",
       "189032  ILTJ133233.91+541927.4  203.141307  54.324278   P205+55\n",
       "\n",
       "[6774 rows x 4 columns]"
      ]
     },
     "execution_count": 4,
     "metadata": {},
     "output_type": "execute_result"
    }
   ],
   "source": [
    "tab"
   ]
  },
  {
   "cell_type": "code",
   "execution_count": 8,
   "metadata": {},
   "outputs": [
    {
     "name": "stderr",
     "output_type": "stream",
     "text": [
      "2021-10-29 22:32:54,092 fits.py: Loading ../data/P205+55-mosaic.fits\n"
     ]
    }
   ],
   "source": [
    "hdu = hfits.load_mosaic(\"P205+55\", \"../data/\")[0]"
   ]
  },
  {
   "cell_type": "code",
   "execution_count": 24,
   "metadata": {},
   "outputs": [],
   "source": [
    "tab = tab.reset_index(drop=True)\n",
    "coords = tab.loc[:10, [\"RA\", \"DEC\"]].values.tolist()"
   ]
  },
  {
   "cell_type": "code",
   "execution_count": 31,
   "metadata": {},
   "outputs": [
    {
     "data": {
      "text/plain": [
       "array([-1.98267850e-05,  6.28855382e-07,  8.91231630e-06, ...,\n",
       "        6.10927654e-05,  6.73056855e-05,  1.35995937e-04])"
      ]
     },
     "execution_count": 31,
     "metadata": {},
     "output_type": "execute_result"
    }
   ],
   "source": [
    "arr = hfits.create_cutout2D_as_flattened_numpy_array(hdu, coords[0], 200)\n",
    "arr"
   ]
  },
  {
   "cell_type": "code",
   "execution_count": 36,
   "metadata": {},
   "outputs": [],
   "source": [
    "arr.astype(\"float32\").tofile(\"yep.bin\")"
   ]
  },
  {
   "cell_type": "code",
   "execution_count": 41,
   "metadata": {},
   "outputs": [
    {
     "data": {
      "text/plain": [
       "40000"
      ]
     },
     "execution_count": 41,
     "metadata": {},
     "output_type": "execute_result"
    }
   ],
   "source": [
    "arr.size"
   ]
  },
  {
   "cell_type": "code",
   "execution_count": 42,
   "metadata": {},
   "outputs": [],
   "source": [
    "from hda_fits import pink"
   ]
  },
  {
   "cell_type": "code",
   "execution_count": null,
   "metadata": {},
   "outputs": [],
   "source": [
    "pink.write_mosaic_objects_to_pink_file_v2(\"here\")"
   ]
  }
 ],
 "metadata": {
  "interpreter": {
   "hash": "99c3a16facf912bea2a325b5308d7bfebfaec1dd459199e30f5f28a4c58a67c3"
  },
  "kernelspec": {
   "display_name": "Python 3.8.5 64-bit ('astro': pyenv)",
   "name": "python3"
  },
  "language_info": {
   "codemirror_mode": {
    "name": "ipython",
    "version": 3
   },
   "file_extension": ".py",
   "mimetype": "text/x-python",
   "name": "python",
   "nbconvert_exporter": "python",
   "pygments_lexer": "ipython3",
   "version": "3.8.5"
  }
 },
 "nbformat": 4,
 "nbformat_minor": 4
}
