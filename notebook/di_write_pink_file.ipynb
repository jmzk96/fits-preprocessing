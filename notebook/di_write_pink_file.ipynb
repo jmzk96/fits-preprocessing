{
 "cells": [
  {
   "cell_type": "code",
   "execution_count": 1,
   "metadata": {},
   "outputs": [],
   "source": [
    "%load_ext autoreload\n",
    "%autoreload 2"
   ]
  },
  {
   "cell_type": "code",
   "execution_count": 2,
   "metadata": {},
   "outputs": [],
   "source": [
    "import matplotlib.pyplot as plt\n",
    "\n",
    "from hda_fits.pink import write_mosaic_objects_to_pink_file_v2\n",
    "import hda_fits.fits as hf\n",
    "\n",
    "\n",
    "plt.rcParams[\"figure.figsize\"] = (12, 8)"
   ]
  },
  {
   "cell_type": "markdown",
   "metadata": {},
   "source": [
    "## Create table subset including P205+55 entries"
   ]
  },
  {
   "cell_type": "code",
   "execution_count": 3,
   "metadata": {},
   "outputs": [],
   "source": [
    "tab = hf.read_shimwell_catalog(\"../data/LOFAR_HBA_T1_DR1_catalog_v1.0.srl.fits\", reduced=True)\n",
    "tab = tab[tab.Mosaic_ID.str.contains(\"P205\")].loc[:, [\"Source_Name\", \"RA\", \"DEC\", \"Mosaic_ID\"]]"
   ]
  },
  {
   "cell_type": "code",
   "execution_count": 4,
   "metadata": {},
   "outputs": [
    {
     "data": {
      "text/html": [
       "<div>\n",
       "<style scoped>\n",
       "    .dataframe tbody tr th:only-of-type {\n",
       "        vertical-align: middle;\n",
       "    }\n",
       "\n",
       "    .dataframe tbody tr th {\n",
       "        vertical-align: top;\n",
       "    }\n",
       "\n",
       "    .dataframe thead th {\n",
       "        text-align: right;\n",
       "    }\n",
       "</style>\n",
       "<table border=\"1\" class=\"dataframe\">\n",
       "  <thead>\n",
       "    <tr style=\"text-align: right;\">\n",
       "      <th></th>\n",
       "      <th>Source_Name</th>\n",
       "      <th>RA</th>\n",
       "      <th>DEC</th>\n",
       "      <th>Mosaic_ID</th>\n",
       "    </tr>\n",
       "  </thead>\n",
       "  <tbody>\n",
       "    <tr>\n",
       "      <th>182259</th>\n",
       "      <td>ILTJ134917.04+535737.2</td>\n",
       "      <td>207.320991</td>\n",
       "      <td>53.960334</td>\n",
       "      <td>P205+55</td>\n",
       "    </tr>\n",
       "    <tr>\n",
       "      <th>182260</th>\n",
       "      <td>ILTJ134916.45+535801.7</td>\n",
       "      <td>207.318522</td>\n",
       "      <td>53.967151</td>\n",
       "      <td>P205+55</td>\n",
       "    </tr>\n",
       "    <tr>\n",
       "      <th>182261</th>\n",
       "      <td>ILTJ134915.23+540433.5</td>\n",
       "      <td>207.313443</td>\n",
       "      <td>54.075982</td>\n",
       "      <td>P205+55</td>\n",
       "    </tr>\n",
       "    <tr>\n",
       "      <th>182262</th>\n",
       "      <td>ILTJ134915.03+540812.1</td>\n",
       "      <td>207.312622</td>\n",
       "      <td>54.136707</td>\n",
       "      <td>P205+55</td>\n",
       "    </tr>\n",
       "    <tr>\n",
       "      <th>182263</th>\n",
       "      <td>ILTJ134911.34+540239.4</td>\n",
       "      <td>207.297256</td>\n",
       "      <td>54.044286</td>\n",
       "      <td>P205+55</td>\n",
       "    </tr>\n",
       "    <tr>\n",
       "      <th>...</th>\n",
       "      <td>...</td>\n",
       "      <td>...</td>\n",
       "      <td>...</td>\n",
       "      <td>...</td>\n",
       "    </tr>\n",
       "    <tr>\n",
       "      <th>189028</th>\n",
       "      <td>ILTJ134000.89+562526.5</td>\n",
       "      <td>205.003718</td>\n",
       "      <td>56.424033</td>\n",
       "      <td>P205+55</td>\n",
       "    </tr>\n",
       "    <tr>\n",
       "      <th>189029</th>\n",
       "      <td>ILTJ133759.61+550106.4</td>\n",
       "      <td>204.498375</td>\n",
       "      <td>55.018459</td>\n",
       "      <td>P205+55</td>\n",
       "    </tr>\n",
       "    <tr>\n",
       "      <th>189030</th>\n",
       "      <td>ILTJ133614.95+544711.3</td>\n",
       "      <td>204.062292</td>\n",
       "      <td>54.786475</td>\n",
       "      <td>P205+55</td>\n",
       "    </tr>\n",
       "    <tr>\n",
       "      <th>189031</th>\n",
       "      <td>ILTJ133340.22+540139.8</td>\n",
       "      <td>203.417603</td>\n",
       "      <td>54.027725</td>\n",
       "      <td>P205+55</td>\n",
       "    </tr>\n",
       "    <tr>\n",
       "      <th>189032</th>\n",
       "      <td>ILTJ133233.91+541927.4</td>\n",
       "      <td>203.141307</td>\n",
       "      <td>54.324278</td>\n",
       "      <td>P205+55</td>\n",
       "    </tr>\n",
       "  </tbody>\n",
       "</table>\n",
       "<p>6774 rows × 4 columns</p>\n",
       "</div>"
      ],
      "text/plain": [
       "                   Source_Name          RA        DEC Mosaic_ID\n",
       "182259  ILTJ134917.04+535737.2  207.320991  53.960334   P205+55\n",
       "182260  ILTJ134916.45+535801.7  207.318522  53.967151   P205+55\n",
       "182261  ILTJ134915.23+540433.5  207.313443  54.075982   P205+55\n",
       "182262  ILTJ134915.03+540812.1  207.312622  54.136707   P205+55\n",
       "182263  ILTJ134911.34+540239.4  207.297256  54.044286   P205+55\n",
       "...                        ...         ...        ...       ...\n",
       "189028  ILTJ134000.89+562526.5  205.003718  56.424033   P205+55\n",
       "189029  ILTJ133759.61+550106.4  204.498375  55.018459   P205+55\n",
       "189030  ILTJ133614.95+544711.3  204.062292  54.786475   P205+55\n",
       "189031  ILTJ133340.22+540139.8  203.417603  54.027725   P205+55\n",
       "189032  ILTJ133233.91+541927.4  203.141307  54.324278   P205+55\n",
       "\n",
       "[6774 rows x 4 columns]"
      ]
     },
     "execution_count": 4,
     "metadata": {},
     "output_type": "execute_result"
    }
   ],
   "source": [
    "tab"
   ]
  },
  {
   "cell_type": "code",
   "execution_count": 5,
   "metadata": {},
   "outputs": [
    {
     "name": "stderr",
     "output_type": "stream",
     "text": [
      "2021-10-30 18:41:11,092 fits.py: Loading ../data/P205+55-mosaic.fits\n"
     ]
    }
   ],
   "source": [
    "hdu = hf.load_mosaic(\"P205+55\", \"../data/\")[0]"
   ]
  },
  {
   "cell_type": "code",
   "execution_count": 6,
   "metadata": {},
   "outputs": [],
   "source": [
    "tab = tab.reset_index(drop=True)\n",
    "coords = tab.loc[:1000, [\"RA\", \"DEC\"]].values.tolist()\n",
    "coords2 = tab.loc[1001:2000, [\"RA\", \"DEC\"]].values.tolist()"
   ]
  },
  {
   "cell_type": "code",
   "execution_count": 7,
   "metadata": {},
   "outputs": [
    {
     "name": "stderr",
     "output_type": "stream",
     "text": [
      "2021-10-30 18:41:21,514 pink.py: Wrote 1001 images to ../data/P205+55_pink_v2.bin\n"
     ]
    },
    {
     "data": {
      "text/plain": [
       "'../data/P205+55_pink_v2.bin'"
      ]
     },
     "execution_count": 7,
     "metadata": {},
     "output_type": "execute_result"
    }
   ],
   "source": [
    "write_mosaic_objects_to_pink_file_v2(\n",
    "    filepath=\"../data/P205+55_pink_v2.bin\",\n",
    "    hdu=hdu,\n",
    "    coordinates=coords,\n",
    "    image_size=200\n",
    ")"
   ]
  },
  {
   "cell_type": "code",
   "execution_count": 8,
   "metadata": {},
   "outputs": [
    {
     "name": "stderr",
     "output_type": "stream",
     "text": [
      "2021-10-30 18:41:25,695 pink.py: Wrote 1000 images to ../data/P205+55_pink_v2_2.bin\n"
     ]
    },
    {
     "data": {
      "text/plain": [
       "'../data/P205+55_pink_v2_2.bin'"
      ]
     },
     "execution_count": 8,
     "metadata": {},
     "output_type": "execute_result"
    }
   ],
   "source": [
    "write_mosaic_objects_to_pink_file_v2(\n",
    "    filepath=\"../data/P205+55_pink_v2_2.bin\",\n",
    "    hdu=hdu,\n",
    "    coordinates=coords2,\n",
    "    image_size=200\n",
    ")"
   ]
  }
 ],
 "metadata": {
  "interpreter": {
   "hash": "99c3a16facf912bea2a325b5308d7bfebfaec1dd459199e30f5f28a4c58a67c3"
  },
  "kernelspec": {
   "display_name": "Python 3.8.5 64-bit ('astro': pyenv)",
   "name": "python3"
  },
  "language_info": {
   "codemirror_mode": {
    "name": "ipython",
    "version": 3
   },
   "file_extension": ".py",
   "mimetype": "text/x-python",
   "name": "python",
   "nbconvert_exporter": "python",
   "pygments_lexer": "ipython3",
   "version": "3.8.5"
  }
 },
 "nbformat": 4,
 "nbformat_minor": 4
}
