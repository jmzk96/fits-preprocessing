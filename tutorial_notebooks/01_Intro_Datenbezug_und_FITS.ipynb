{
 "cells": [
  {
   "cell_type": "markdown",
   "metadata": {},
   "source": [
    "# Intro\n",
    "\n",
    "Die hier bereitgestellte Library wurde zur Unterstützung der im beigelegten Projektbericht beschriebenen Experimente erstellt. Der Projektbericht befindet sich in \n",
    "\n",
    ">  **docs/Projektbericht.pdf** \n",
    "\n",
    "und stellt das Forschungsziel, Vorgehen und Ergebnisse auf\n",
    "theoretischer und fachlicher Ebene dar. Es bietet sich an zunächst den Forschungsbericht unter die Lupe zu nehmen, um\n",
    "das **Why**, **What** und **How** der hier dargestellten Codebeispiele besser verstehen zu können.\n",
    "\n",
    "Die bereitgestellten Notebooks dienen als Einführung in die praktische Arbeit mit astronomischen Dateiformaten und speziell der \n",
    "Vorverarbeitung von astronomischen Bilddaten, um diese mithilfe der Implementierung von PINK, des parallelisierten \n",
    "rotations- und flipinvarianten Self-Organizing Map Algorithmus, verarbeiten zu lassen.\n",
    "\n",
    "\n",
    "# FITs\n",
    "\n",
    "In diesem Notebook werden die ersten Schritte zum Bezug und zur Verarbeitung von FITS-Dateien beschrieben. Im Rahmen dieses\n",
    "Projekts wurden speziell FITS-Bilddateien des Lofar Two Metre Sky Surveys Data Release 1 (Bilddateien im Radiospektrum) sowie\n",
    "Bilddateien des Panstarr Releases (optische Bilddateien) sowie die zugehörigen FITS-Katalogdateien verwendet."
   ]
  },
  {
   "cell_type": "markdown",
   "metadata": {},
   "source": []
  }
 ],
 "metadata": {
  "language_info": {
   "name": "python"
  },
  "orig_nbformat": 4
 },
 "nbformat": 4,
 "nbformat_minor": 2
}
